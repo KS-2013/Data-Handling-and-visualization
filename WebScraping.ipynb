{
  "nbformat": 4,
  "nbformat_minor": 0,
  "metadata": {
    "colab": {
      "provenance": [],
      "toc_visible": true,
      "authorship_tag": "ABX9TyN3Q5G20TqNsQaPq5NppH5X",
      "include_colab_link": true
    },
    "kernelspec": {
      "name": "python3",
      "display_name": "Python 3"
    },
    "language_info": {
      "name": "python"
    }
  },
  "cells": [
    {
      "cell_type": "markdown",
      "metadata": {
        "id": "view-in-github",
        "colab_type": "text"
      },
      "source": [
        "<a href=\"https://colab.research.google.com/github/Komal-Sahani-U/Data-Handling-and-visualization/blob/main/WebScraping.ipynb\" target=\"_parent\"><img src=\"https://colab.research.google.com/assets/colab-badge.svg\" alt=\"Open In Colab\"/></a>"
      ]
    },
    {
      "cell_type": "code",
      "execution_count": 1,
      "metadata": {
        "colab": {
          "base_uri": "https://localhost:8080/"
        },
        "id": "0a2Zxf71Dwd9",
        "outputId": "dc422d00-4419-48a1-c946-93dda00e135d"
      },
      "outputs": [
        {
          "output_type": "stream",
          "name": "stdout",
          "text": [
            "<!DOCTYPE html>\n",
            "<!--[if lt IE 7]> <html lang=\"en-us\" class=\"a-no-js a-lt-ie9 a-lt-ie8 a-lt-ie7\"> <![endif]-->\n",
            "<!--[if IE 7]>    <html lang=\"en-us\" class=\"a-no-js a-lt-ie9 a-lt-ie8\"> <![endif]-->\n",
            "<!--[if IE 8]>    <html lang=\"en-us\" class=\"a-no-js a-lt-ie9\"> <![endif]-->\n",
            "<!--[if gt IE 8]><!-->\n",
            "<html class=\"a-no-js\" lang=\"en-us\"><!--<![endif]--><head>\n",
            "<meta http-equiv=\"content-type\" content=\"text/html; charset=UTF-8\">\n",
            "<meta charset=\"utf-8\">\n",
            "<meta http-equiv=\"X-UA-Compatible\" content=\"IE=edge,chrome=1\">\n",
            "<title dir=\"ltr\">Amazon.in</title>\n",
            "<meta name=\"viewport\" content=\"width=device-width\">\n",
            "<link rel=\"stylesheet\" href=\"https://images-na.ssl-images-amazon.com/images/G/01/AUIClients/AmazonUI-3c913031596ca78a3768f4e934b1cc02ce238101.secure.min._V1_.css\">\n",
            "<script>\n",
            "\n",
            "if (true === true) {\n",
            "    var ue_t0 = (+ new Date()),\n",
            "        ue_csm = window,\n",
            "        ue = { t0: ue_t0, d: function() { return (+new Date() - ue_t0); } },\n",
            "        ue_furl = \"fls-eu.amazon.in\",\n",
            "        ue_mid = \"A21TJRUUN4KGV\",\n",
            "        ue_sid = (document.cookie.match(/session-id=([0-9-]+)/) || [])[1],\n",
            "        ue_sn = \"opfcaptcha.amazon.in\",\n",
            "        ue_id = 'CPCWQR9SBK4H27RQMKPC';\n",
            "}\n",
            "</script>\n",
            "</head>\n",
            "<body>\n",
            "\n",
            "<!--\n",
            "        To discuss automated access to Amazon data please contact api-services-support@amazon.com.\n",
            "        For information about migrating to our APIs refer to our Marketplace APIs at https://developer.amazonservices.in/ref=rm_c_sv, or our Product Advertising API at https://affiliate-program.amazon.in/gp/advertising/api/detail/main.html/ref=rm_c_ac for advertising use cases.\n",
            "-->\n",
            "\n",
            "<!--\n",
            "Correios.DoNotSend\n",
            "-->\n",
            "\n",
            "<div class=\"a-container a-padding-double-large\" style=\"min-width:350px;padding:44px 0 !important\">\n",
            "\n",
            "    <div class=\"a-row a-spacing-double-large\" style=\"width: 350px; margin: 0 auto\">\n",
            "\n",
            "        <div class=\"a-row a-spacing-medium a-text-center\"><i class=\"a-icon a-logo\"></i></div>\n",
            "\n",
            "        <div class=\"a-box a-alert a-alert-info a-spacing-base\">\n",
            "            <div class=\"a-box-inner\">\n",
            "                <i class=\"a-icon a-icon-alert\"></i>\n",
            "                <h4>Enter the characters you see below</h4>\n",
            "                <p class=\"a-last\">Sorry, we just need to make sure you're not a robot. For best results, please make sure your browser is accepting cookies.</p>\n",
            "                </div>\n",
            "            </div>\n",
            "\n",
            "            <div class=\"a-section\">\n",
            "\n",
            "                <div class=\"a-box a-color-offset-background\">\n",
            "                    <div class=\"a-box-inner a-padding-extra-large\">\n",
            "\n",
            "                        <form method=\"get\" action=\"/errors/validateCaptcha\" name=\"\">\n",
            "                            <input type=hidden name=\"amzn\" value=\"h8+DFrgznCCznRZTTQZonA==\" /><input type=hidden name=\"amzn-r\" value=\"&#047;\" />\n",
            "                            <div class=\"a-row a-spacing-large\">\n",
            "                                <div class=\"a-box\">\n",
            "                                    <div class=\"a-box-inner\">\n",
            "                                        <h4>Type the characters you see in this image:</h4>\n",
            "                                        <!-- For automated access to price change or offer listing change events,\n",
            "                                             please refer to the MWS Subscription API:\n",
            "                                             https://developer.amazonservices.in/gp/mws/api.html/276-5247872-0590350?ie=UTF8&section=subscriptions&group=subscriptions&version=latest\n",
            "                                        -->\n",
            "                                        <div class=\"a-row a-text-center\">\n",
            "                                            <img src=\"https://images-na.ssl-images-amazon.com/captcha/perumqgc/Captcha_juwjgcwpkm.jpg\">\n",
            "                                        </div>\n",
            "                                        <div class=\"a-row a-spacing-base\">\n",
            "                                            <div class=\"a-row\">\n",
            "                                                <div class=\"a-column a-span6\">\n",
            "                                                </div>\n",
            "                                                <div class=\"a-column a-span6 a-span-last a-text-right\">\n",
            "                                                    <a onclick=\"window.location.reload()\">Try different image</a>\n",
            "                                                </div>\n",
            "                                            </div>\n",
            "                                            <input autocomplete=\"off\" spellcheck=\"false\" placeholder=\"Type characters\" id=\"captchacharacters\" name=\"field-keywords\" class=\"a-span12\" autocapitalize=\"off\" autocorrect=\"off\" type=\"text\">\n",
            "                                        </div>\n",
            "                                    </div>\n",
            "                                </div>\n",
            "                            </div>\n",
            "\n",
            "                            <div class=\"a-section a-spacing-extra-large\">\n",
            "\n",
            "                                <div class=\"a-row\">\n",
            "                                    <span class=\"a-button a-button-primary a-span12\">\n",
            "                                        <span class=\"a-button-inner\">\n",
            "                                            <button type=\"submit\" class=\"a-button-text\">Continue shopping</button>\n",
            "                                        </span>\n",
            "                                    </span>\n",
            "                                </div>\n",
            "\n",
            "                            </div>\n",
            "                        </form>\n",
            "\n",
            "                    </div>\n",
            "                </div>\n",
            "\n",
            "            </div>\n",
            "\n",
            "        </div>\n",
            "\n",
            "        <div class=\"a-divider a-divider-section\"><div class=\"a-divider-inner\"></div></div>\n",
            "\n",
            "        <div class=\"a-text-center a-spacing-small a-size-mini\">\n",
            "            <a href=\"https://www.amazon.in/gp/help/customer/display.html/ref=footer_cou?ie=UTF8&nodeId=200545940\">Conditions of Use &amp; Sale</a>\n",
            "            <span class=\"a-letter-space\"></span>\n",
            "            <span class=\"a-letter-space\"></span>\n",
            "            <span class=\"a-letter-space\"></span>\n",
            "            <span class=\"a-letter-space\"></span>\n",
            "            <a href=\"https://www.amazon.in/gp/help/customer/display.html/ref=footer_privacy?ie=UTF8&nodeId=200534380\">Privacy Notice</a>\n",
            "        </div>\n",
            "\n",
            "        <div class=\"a-text-center a-size-mini a-color-secondary\">\n",
            "          &copy; 1996-2015, Amazon.com, Inc. or its affiliates\n",
            "          <script>\n",
            "           if (true === true) {\n",
            "             document.write('<img src=\"https://fls-eu.amaz'+'on.in/'+'1/oc-csi/1/OP/requestId=CPCWQR9SBK4H27RQMKPC&js=1\" />');\n",
            "           };\n",
            "          </script>\n",
            "          <noscript>\n",
            "            <img src=\"https://fls-eu.amazon.in/1/oc-csi/1/OP/requestId=CPCWQR9SBK4H27RQMKPC&js=0\" />\n",
            "          </noscript>\n",
            "        </div>\n",
            "    </div>\n",
            "    <script>\n",
            "    if (true === true) {\n",
            "        var head = document.getElementsByTagName('head')[0],\n",
            "            prefix = \"https://images-eu.ssl-images-amazon.com/images/G/01/csminstrumentation/\",\n",
            "            elem = document.createElement(\"script\");\n",
            "        elem.src = prefix + \"csm-captcha-instrumentation.min.js\";\n",
            "        head.appendChild(elem);\n",
            "\n",
            "        elem = document.createElement(\"script\");\n",
            "        elem.src = prefix + \"rd-script-6d68177fa6061598e9509dc4b5bdd08d.js\";\n",
            "        head.appendChild(elem);\n",
            "    }\n",
            "    </script>\n",
            "</body></html>\n",
            "\n"
          ]
        }
      ],
      "source": [
        "import requests\n",
        "link=\"https://www.amazon.in/\"\n",
        "link_text=requests.get(link).text\n",
        "print(link_text)"
      ]
    },
    {
      "cell_type": "code",
      "source": [
        "from bs4 import BeautifulSoup\n",
        "soup=BeautifulSoup(link_text,'lxml')\n",
        "print(soup)\n"
      ],
      "metadata": {
        "colab": {
          "base_uri": "https://localhost:8080/"
        },
        "id": "tcE-nYnNEsVg",
        "outputId": "49f49fc8-ae7d-443f-808e-b5d46b27ad3e"
      },
      "execution_count": 2,
      "outputs": [
        {
          "output_type": "stream",
          "name": "stdout",
          "text": [
            "<!DOCTYPE html>\n",
            "<!--[if lt IE 7]> <html lang=\"en-us\" class=\"a-no-js a-lt-ie9 a-lt-ie8 a-lt-ie7\"> <![endif]--><!--[if IE 7]>    <html lang=\"en-us\" class=\"a-no-js a-lt-ie9 a-lt-ie8\"> <![endif]--><!--[if IE 8]>    <html lang=\"en-us\" class=\"a-no-js a-lt-ie9\"> <![endif]--><!--[if gt IE 8]><!--><html class=\"a-no-js\" lang=\"en-us\"><!--<![endif]--><head>\n",
            "<meta content=\"text/html; charset=utf-8\" http-equiv=\"content-type\"/>\n",
            "<meta charset=\"utf-8\"/>\n",
            "<meta content=\"IE=edge,chrome=1\" http-equiv=\"X-UA-Compatible\"/>\n",
            "<title dir=\"ltr\">Amazon.in</title>\n",
            "<meta content=\"width=device-width\" name=\"viewport\"/>\n",
            "<link href=\"https://images-na.ssl-images-amazon.com/images/G/01/AUIClients/AmazonUI-3c913031596ca78a3768f4e934b1cc02ce238101.secure.min._V1_.css\" rel=\"stylesheet\"/>\n",
            "<script>\n",
            "\n",
            "if (true === true) {\n",
            "    var ue_t0 = (+ new Date()),\n",
            "        ue_csm = window,\n",
            "        ue = { t0: ue_t0, d: function() { return (+new Date() - ue_t0); } },\n",
            "        ue_furl = \"fls-eu.amazon.in\",\n",
            "        ue_mid = \"A21TJRUUN4KGV\",\n",
            "        ue_sid = (document.cookie.match(/session-id=([0-9-]+)/) || [])[1],\n",
            "        ue_sn = \"opfcaptcha.amazon.in\",\n",
            "        ue_id = 'CPCWQR9SBK4H27RQMKPC';\n",
            "}\n",
            "</script>\n",
            "</head>\n",
            "<body>\n",
            "<!--\n",
            "        To discuss automated access to Amazon data please contact api-services-support@amazon.com.\n",
            "        For information about migrating to our APIs refer to our Marketplace APIs at https://developer.amazonservices.in/ref=rm_c_sv, or our Product Advertising API at https://affiliate-program.amazon.in/gp/advertising/api/detail/main.html/ref=rm_c_ac for advertising use cases.\n",
            "-->\n",
            "<!--\n",
            "Correios.DoNotSend\n",
            "-->\n",
            "<div class=\"a-container a-padding-double-large\" style=\"min-width:350px;padding:44px 0 !important\">\n",
            "<div class=\"a-row a-spacing-double-large\" style=\"width: 350px; margin: 0 auto\">\n",
            "<div class=\"a-row a-spacing-medium a-text-center\"><i class=\"a-icon a-logo\"></i></div>\n",
            "<div class=\"a-box a-alert a-alert-info a-spacing-base\">\n",
            "<div class=\"a-box-inner\">\n",
            "<i class=\"a-icon a-icon-alert\"></i>\n",
            "<h4>Enter the characters you see below</h4>\n",
            "<p class=\"a-last\">Sorry, we just need to make sure you're not a robot. For best results, please make sure your browser is accepting cookies.</p>\n",
            "</div>\n",
            "</div>\n",
            "<div class=\"a-section\">\n",
            "<div class=\"a-box a-color-offset-background\">\n",
            "<div class=\"a-box-inner a-padding-extra-large\">\n",
            "<form action=\"/errors/validateCaptcha\" method=\"get\" name=\"\">\n",
            "<input name=\"amzn\" type=\"hidden\" value=\"h8+DFrgznCCznRZTTQZonA==\"/><input name=\"amzn-r\" type=\"hidden\" value=\"/\"/>\n",
            "<div class=\"a-row a-spacing-large\">\n",
            "<div class=\"a-box\">\n",
            "<div class=\"a-box-inner\">\n",
            "<h4>Type the characters you see in this image:</h4>\n",
            "<!-- For automated access to price change or offer listing change events,\n",
            "                                             please refer to the MWS Subscription API:\n",
            "                                             https://developer.amazonservices.in/gp/mws/api.html/276-5247872-0590350?ie=UTF8&section=subscriptions&group=subscriptions&version=latest\n",
            "                                        -->\n",
            "<div class=\"a-row a-text-center\">\n",
            "<img src=\"https://images-na.ssl-images-amazon.com/captcha/perumqgc/Captcha_juwjgcwpkm.jpg\"/>\n",
            "</div>\n",
            "<div class=\"a-row a-spacing-base\">\n",
            "<div class=\"a-row\">\n",
            "<div class=\"a-column a-span6\">\n",
            "</div>\n",
            "<div class=\"a-column a-span6 a-span-last a-text-right\">\n",
            "<a onclick=\"window.location.reload()\">Try different image</a>\n",
            "</div>\n",
            "</div>\n",
            "<input autocapitalize=\"off\" autocomplete=\"off\" autocorrect=\"off\" class=\"a-span12\" id=\"captchacharacters\" name=\"field-keywords\" placeholder=\"Type characters\" spellcheck=\"false\" type=\"text\"/>\n",
            "</div>\n",
            "</div>\n",
            "</div>\n",
            "</div>\n",
            "<div class=\"a-section a-spacing-extra-large\">\n",
            "<div class=\"a-row\">\n",
            "<span class=\"a-button a-button-primary a-span12\">\n",
            "<span class=\"a-button-inner\">\n",
            "<button class=\"a-button-text\" type=\"submit\">Continue shopping</button>\n",
            "</span>\n",
            "</span>\n",
            "</div>\n",
            "</div>\n",
            "</form>\n",
            "</div>\n",
            "</div>\n",
            "</div>\n",
            "</div>\n",
            "<div class=\"a-divider a-divider-section\"><div class=\"a-divider-inner\"></div></div>\n",
            "<div class=\"a-text-center a-spacing-small a-size-mini\">\n",
            "<a href=\"https://www.amazon.in/gp/help/customer/display.html/ref=footer_cou?ie=UTF8&amp;nodeId=200545940\">Conditions of Use &amp; Sale</a>\n",
            "<span class=\"a-letter-space\"></span>\n",
            "<span class=\"a-letter-space\"></span>\n",
            "<span class=\"a-letter-space\"></span>\n",
            "<span class=\"a-letter-space\"></span>\n",
            "<a href=\"https://www.amazon.in/gp/help/customer/display.html/ref=footer_privacy?ie=UTF8&amp;nodeId=200534380\">Privacy Notice</a>\n",
            "</div>\n",
            "<div class=\"a-text-center a-size-mini a-color-secondary\">\n",
            "          © 1996-2015, Amazon.com, Inc. or its affiliates\n",
            "          <script>\n",
            "           if (true === true) {\n",
            "             document.write('<img src=\"https://fls-eu.amaz'+'on.in/'+'1/oc-csi/1/OP/requestId=CPCWQR9SBK4H27RQMKPC&js=1\" />');\n",
            "           };\n",
            "          </script>\n",
            "<noscript>\n",
            "<img src=\"https://fls-eu.amazon.in/1/oc-csi/1/OP/requestId=CPCWQR9SBK4H27RQMKPC&amp;js=0\"/>\n",
            "</noscript>\n",
            "</div>\n",
            "</div>\n",
            "<script>\n",
            "    if (true === true) {\n",
            "        var head = document.getElementsByTagName('head')[0],\n",
            "            prefix = \"https://images-eu.ssl-images-amazon.com/images/G/01/csminstrumentation/\",\n",
            "            elem = document.createElement(\"script\");\n",
            "        elem.src = prefix + \"csm-captcha-instrumentation.min.js\";\n",
            "        head.appendChild(elem);\n",
            "\n",
            "        elem = document.createElement(\"script\");\n",
            "        elem.src = prefix + \"rd-script-6d68177fa6061598e9509dc4b5bdd08d.js\";\n",
            "        head.appendChild(elem);\n",
            "    }\n",
            "    </script>\n",
            "</body></html>\n",
            "\n"
          ]
        }
      ]
    },
    {
      "cell_type": "code",
      "source": [
        "print(soup.prettify())"
      ],
      "metadata": {
        "colab": {
          "base_uri": "https://localhost:8080/"
        },
        "id": "6J9RDh6pGTsr",
        "outputId": "4e09daa8-65a5-4881-dd6b-793a4770c3f6"
      },
      "execution_count": 3,
      "outputs": [
        {
          "output_type": "stream",
          "name": "stdout",
          "text": [
            "<!DOCTYPE html>\n",
            "<!--[if lt IE 7]> <html lang=\"en-us\" class=\"a-no-js a-lt-ie9 a-lt-ie8 a-lt-ie7\"> <![endif]-->\n",
            "<!--[if IE 7]>    <html lang=\"en-us\" class=\"a-no-js a-lt-ie9 a-lt-ie8\"> <![endif]-->\n",
            "<!--[if IE 8]>    <html lang=\"en-us\" class=\"a-no-js a-lt-ie9\"> <![endif]-->\n",
            "<!--[if gt IE 8]><!-->\n",
            "<html class=\"a-no-js\" lang=\"en-us\">\n",
            " <!--<![endif]-->\n",
            " <head>\n",
            "  <meta content=\"text/html; charset=utf-8\" http-equiv=\"content-type\"/>\n",
            "  <meta charset=\"utf-8\"/>\n",
            "  <meta content=\"IE=edge,chrome=1\" http-equiv=\"X-UA-Compatible\"/>\n",
            "  <title dir=\"ltr\">\n",
            "   Amazon.in\n",
            "  </title>\n",
            "  <meta content=\"width=device-width\" name=\"viewport\"/>\n",
            "  <link href=\"https://images-na.ssl-images-amazon.com/images/G/01/AUIClients/AmazonUI-3c913031596ca78a3768f4e934b1cc02ce238101.secure.min._V1_.css\" rel=\"stylesheet\"/>\n",
            "  <script>\n",
            "   if (true === true) {\n",
            "    var ue_t0 = (+ new Date()),\n",
            "        ue_csm = window,\n",
            "        ue = { t0: ue_t0, d: function() { return (+new Date() - ue_t0); } },\n",
            "        ue_furl = \"fls-eu.amazon.in\",\n",
            "        ue_mid = \"A21TJRUUN4KGV\",\n",
            "        ue_sid = (document.cookie.match(/session-id=([0-9-]+)/) || [])[1],\n",
            "        ue_sn = \"opfcaptcha.amazon.in\",\n",
            "        ue_id = 'CPCWQR9SBK4H27RQMKPC';\n",
            "}\n",
            "  </script>\n",
            " </head>\n",
            " <body>\n",
            "  <!--\n",
            "        To discuss automated access to Amazon data please contact api-services-support@amazon.com.\n",
            "        For information about migrating to our APIs refer to our Marketplace APIs at https://developer.amazonservices.in/ref=rm_c_sv, or our Product Advertising API at https://affiliate-program.amazon.in/gp/advertising/api/detail/main.html/ref=rm_c_ac for advertising use cases.\n",
            "-->\n",
            "  <!--\n",
            "Correios.DoNotSend\n",
            "-->\n",
            "  <div class=\"a-container a-padding-double-large\" style=\"min-width:350px;padding:44px 0 !important\">\n",
            "   <div class=\"a-row a-spacing-double-large\" style=\"width: 350px; margin: 0 auto\">\n",
            "    <div class=\"a-row a-spacing-medium a-text-center\">\n",
            "     <i class=\"a-icon a-logo\">\n",
            "     </i>\n",
            "    </div>\n",
            "    <div class=\"a-box a-alert a-alert-info a-spacing-base\">\n",
            "     <div class=\"a-box-inner\">\n",
            "      <i class=\"a-icon a-icon-alert\">\n",
            "      </i>\n",
            "      <h4>\n",
            "       Enter the characters you see below\n",
            "      </h4>\n",
            "      <p class=\"a-last\">\n",
            "       Sorry, we just need to make sure you're not a robot. For best results, please make sure your browser is accepting cookies.\n",
            "      </p>\n",
            "     </div>\n",
            "    </div>\n",
            "    <div class=\"a-section\">\n",
            "     <div class=\"a-box a-color-offset-background\">\n",
            "      <div class=\"a-box-inner a-padding-extra-large\">\n",
            "       <form action=\"/errors/validateCaptcha\" method=\"get\" name=\"\">\n",
            "        <input name=\"amzn\" type=\"hidden\" value=\"h8+DFrgznCCznRZTTQZonA==\"/>\n",
            "        <input name=\"amzn-r\" type=\"hidden\" value=\"/\"/>\n",
            "        <div class=\"a-row a-spacing-large\">\n",
            "         <div class=\"a-box\">\n",
            "          <div class=\"a-box-inner\">\n",
            "           <h4>\n",
            "            Type the characters you see in this image:\n",
            "           </h4>\n",
            "           <!-- For automated access to price change or offer listing change events,\n",
            "                                             please refer to the MWS Subscription API:\n",
            "                                             https://developer.amazonservices.in/gp/mws/api.html/276-5247872-0590350?ie=UTF8&section=subscriptions&group=subscriptions&version=latest\n",
            "                                        -->\n",
            "           <div class=\"a-row a-text-center\">\n",
            "            <img src=\"https://images-na.ssl-images-amazon.com/captcha/perumqgc/Captcha_juwjgcwpkm.jpg\"/>\n",
            "           </div>\n",
            "           <div class=\"a-row a-spacing-base\">\n",
            "            <div class=\"a-row\">\n",
            "             <div class=\"a-column a-span6\">\n",
            "             </div>\n",
            "             <div class=\"a-column a-span6 a-span-last a-text-right\">\n",
            "              <a onclick=\"window.location.reload()\">\n",
            "               Try different image\n",
            "              </a>\n",
            "             </div>\n",
            "            </div>\n",
            "            <input autocapitalize=\"off\" autocomplete=\"off\" autocorrect=\"off\" class=\"a-span12\" id=\"captchacharacters\" name=\"field-keywords\" placeholder=\"Type characters\" spellcheck=\"false\" type=\"text\"/>\n",
            "           </div>\n",
            "          </div>\n",
            "         </div>\n",
            "        </div>\n",
            "        <div class=\"a-section a-spacing-extra-large\">\n",
            "         <div class=\"a-row\">\n",
            "          <span class=\"a-button a-button-primary a-span12\">\n",
            "           <span class=\"a-button-inner\">\n",
            "            <button class=\"a-button-text\" type=\"submit\">\n",
            "             Continue shopping\n",
            "            </button>\n",
            "           </span>\n",
            "          </span>\n",
            "         </div>\n",
            "        </div>\n",
            "       </form>\n",
            "      </div>\n",
            "     </div>\n",
            "    </div>\n",
            "   </div>\n",
            "   <div class=\"a-divider a-divider-section\">\n",
            "    <div class=\"a-divider-inner\">\n",
            "    </div>\n",
            "   </div>\n",
            "   <div class=\"a-text-center a-spacing-small a-size-mini\">\n",
            "    <a href=\"https://www.amazon.in/gp/help/customer/display.html/ref=footer_cou?ie=UTF8&amp;nodeId=200545940\">\n",
            "     Conditions of Use &amp; Sale\n",
            "    </a>\n",
            "    <span class=\"a-letter-space\">\n",
            "    </span>\n",
            "    <span class=\"a-letter-space\">\n",
            "    </span>\n",
            "    <span class=\"a-letter-space\">\n",
            "    </span>\n",
            "    <span class=\"a-letter-space\">\n",
            "    </span>\n",
            "    <a href=\"https://www.amazon.in/gp/help/customer/display.html/ref=footer_privacy?ie=UTF8&amp;nodeId=200534380\">\n",
            "     Privacy Notice\n",
            "    </a>\n",
            "   </div>\n",
            "   <div class=\"a-text-center a-size-mini a-color-secondary\">\n",
            "    © 1996-2015, Amazon.com, Inc. or its affiliates\n",
            "    <script>\n",
            "     if (true === true) {\n",
            "             document.write('<img src=\"https://fls-eu.amaz'+'on.in/'+'1/oc-csi/1/OP/requestId=CPCWQR9SBK4H27RQMKPC&js=1\" />');\n",
            "           };\n",
            "    </script>\n",
            "    <noscript>\n",
            "     <img src=\"https://fls-eu.amazon.in/1/oc-csi/1/OP/requestId=CPCWQR9SBK4H27RQMKPC&amp;js=0\"/>\n",
            "    </noscript>\n",
            "   </div>\n",
            "  </div>\n",
            "  <script>\n",
            "   if (true === true) {\n",
            "        var head = document.getElementsByTagName('head')[0],\n",
            "            prefix = \"https://images-eu.ssl-images-amazon.com/images/G/01/csminstrumentation/\",\n",
            "            elem = document.createElement(\"script\");\n",
            "        elem.src = prefix + \"csm-captcha-instrumentation.min.js\";\n",
            "        head.appendChild(elem);\n",
            "\n",
            "        elem = document.createElement(\"script\");\n",
            "        elem.src = prefix + \"rd-script-6d68177fa6061598e9509dc4b5bdd08d.js\";\n",
            "        head.appendChild(elem);\n",
            "    }\n",
            "  </script>\n",
            " </body>\n",
            "</html>\n",
            "\n"
          ]
        }
      ]
    },
    {
      "cell_type": "code",
      "source": [
        "print(soup.title)"
      ],
      "metadata": {
        "colab": {
          "base_uri": "https://localhost:8080/"
        },
        "id": "Eqg2v7eaGezB",
        "outputId": "baeedae9-a35f-40a2-eb67-b80fa851e5d3"
      },
      "execution_count": 4,
      "outputs": [
        {
          "output_type": "stream",
          "name": "stdout",
          "text": [
            "<title dir=\"ltr\">Amazon.in</title>\n"
          ]
        }
      ]
    },
    {
      "cell_type": "code",
      "source": [
        "print(soup.title.string)"
      ],
      "metadata": {
        "colab": {
          "base_uri": "https://localhost:8080/"
        },
        "id": "sFyyFYPSGm4L",
        "outputId": "0bb32d7b-688c-4993-ae61-7d7238f911b3"
      },
      "execution_count": 5,
      "outputs": [
        {
          "output_type": "stream",
          "name": "stdout",
          "text": [
            "Amazon.in\n"
          ]
        }
      ]
    },
    {
      "cell_type": "code",
      "source": [
        "soup.a"
      ],
      "metadata": {
        "colab": {
          "base_uri": "https://localhost:8080/"
        },
        "id": "pDa1oxGZGr-j",
        "outputId": "bb8f22d4-86b3-440c-aa69-6b8472d20a36"
      },
      "execution_count": 6,
      "outputs": [
        {
          "output_type": "execute_result",
          "data": {
            "text/plain": [
              "<a onclick=\"window.location.reload()\">Try different image</a>"
            ]
          },
          "metadata": {},
          "execution_count": 6
        }
      ]
    },
    {
      "cell_type": "code",
      "source": [
        "soup.find_all('a')"
      ],
      "metadata": {
        "id": "jQmvKbt4GvdS",
        "colab": {
          "base_uri": "https://localhost:8080/"
        },
        "outputId": "1dbd4cf3-116b-4d65-ab4f-cb3772533134"
      },
      "execution_count": 8,
      "outputs": [
        {
          "output_type": "execute_result",
          "data": {
            "text/plain": [
              "[<a onclick=\"window.location.reload()\">Try different image</a>,\n",
              " <a href=\"https://www.amazon.in/gp/help/customer/display.html/ref=footer_cou?ie=UTF8&amp;nodeId=200545940\">Conditions of Use &amp; Sale</a>,\n",
              " <a href=\"https://www.amazon.in/gp/help/customer/display.html/ref=footer_privacy?ie=UTF8&amp;nodeId=200534380\">Privacy Notice</a>]"
            ]
          },
          "metadata": {},
          "execution_count": 8
        }
      ]
    },
    {
      "cell_type": "code",
      "source": [
        "all_table= soup.find_all('table')\n",
        "print(all_table)"
      ],
      "metadata": {
        "id": "nNA7pvW_G7hi",
        "colab": {
          "base_uri": "https://localhost:8080/"
        },
        "outputId": "919c94ff-90d1-46af-b013-d673d99e70de"
      },
      "execution_count": 9,
      "outputs": [
        {
          "output_type": "stream",
          "name": "stdout",
          "text": [
            "[]\n"
          ]
        }
      ]
    },
    {
      "cell_type": "code",
      "source": [
        "def getdata(url):\n",
        "    r = requests.get(url)\n",
        "    return r.text\n",
        "\n",
        "htmldata = getdata(\"https://www.amazon.in/\")\n",
        "soup = BeautifulSoup(htmldata, 'html.parser')\n",
        "for item in soup.find_all('img'):\n",
        "    print(item['src'])"
      ],
      "metadata": {
        "colab": {
          "base_uri": "https://localhost:8080/"
        },
        "id": "aJdwhR4DVnfK",
        "outputId": "dad79a06-35cd-445a-cd8a-4fafe95cc880"
      },
      "execution_count": 10,
      "outputs": [
        {
          "output_type": "stream",
          "name": "stdout",
          "text": [
            "https://m.media-amazon.com/images/G/31/social_share/amazon_logo._CB633266945_.png\n",
            "https://m.media-amazon.com/images/G/31/gno/sprites/nav-sprite-global-1x-reorg-privacy._CB600086755_.png\n",
            "https://m.media-amazon.com/images/G/31/AmazonVideo/2021/X-site/SingleTitle/AeWatanMereWatan/400x39-SWM_NP._CB579402777_.jpg\n",
            "https://m.media-amazon.com/images/I/51Id5Jjpm-L._SX1500_.jpg\n",
            "https://images-eu.ssl-images-amazon.com/images/G/31/img19/Beauty/GW/desktop/Make-up-CC_desktop_1x._SY304_CB466075850_.jpg\n",
            "https://images-eu.ssl-images-amazon.com/images/G/31/Gateway/Events/2018/JupiterFallBack/Jupiter_bau_PC_top_card_fashion_1x._SY304_CB484150077_.jpg\n",
            "https://images-eu.ssl-images-amazon.com/images/G/31/Gateway/Events/2018/JupiterFallBack/Jupiter_bau_PC_top_card_home_1x._SY304_CB484150079_.jpg\n",
            "https://images-eu.ssl-images-amazon.com/images/G/31/img19/AmazonDevices/neel/March/1X._SY304_CB469330167_.jpg\n",
            "https://images-eu.ssl-images-amazon.com/images/G/31/Gateway/Events/2018/JupiterFallBack/Jupiter_bau_PC_top_card_groceries_1x._SY304_CB484150076_.jpg\n",
            "https://images-eu.ssl-images-amazon.com/images/G/31/img20/CEPC/Covid19/V195588257_IN_CEPC_Contingency_Covid_GW_April20_rush_dbqc0.5x_3._SY116_CB433895198_.jpg\n",
            "https://images-eu.ssl-images-amazon.com/images/G/31/img20/CEPC/Covid19/V195588257_IN_CEPC_Contingency_Covid_GW_April20_rush_dbqc0.5x_4._SY116_CB433895198_.jpg\n",
            "https://images-eu.ssl-images-amazon.com/images/G/31/img20/CEPC/Covid19/V195588257_IN_CEPC_Contingency_Covid_GW_April20_rush_dbqc0.5x_1._SY116_CB433895198_.jpg\n",
            "https://images-eu.ssl-images-amazon.com/images/G/31/img20/CEPC/Covid19/V195588257_IN_CEPC_Contingency_Covid_GW_April20_rush_dbqc0.5x_2._SY116_CB433889427_.jpg\n",
            "https://images-eu.ssl-images-amazon.com/images/G/31/IMG20/Home/BAU/GWPC/XCM_Manual_372x232_1212890_372X232_1_bd034eee_6f06_4e0a_9967_d0e0e5f7f932_jpg_LOWER_QL10_._SY116_CB423376243_.jpg\n",
            "https://images-eu.ssl-images-amazon.com/images/G/31/IMG20/Home/BAU/GWPC/XCM_Manual_372x232_1212890_372X232_2_64e793dc_221d_4067_8fca_2f0338879977_jpg_LOWER_QL85_._SY116_CB423376243_.jpg\n",
            "https://images-eu.ssl-images-amazon.com/images/G/31/IMG20/Home/BAU/GWPC/XCM_Manual_372x232_1212890_372X232_3_ccc0f761_ea08_4cfb_9562_6f13e80170d8_jpg_LOWER_QL30_._SY116_CB423376243_.jpg\n",
            "https://images-eu.ssl-images-amazon.com/images/G/31/IMG20/Home/BAU/GWPC/XCM_Manual_372x232_1212890_372X232_4_bc4e9dc4_a3aa_4aae_93fd_9723dacd805f_jpg_LOWER_QL50_._SY116_CB423376243_.jpg\n",
            "https://images-eu.ssl-images-amazon.com/images/G/31/img20/AmazonLaunchpad/Gateway/June/dhyana_02_379_304._SY304_CB429464454_.jpg\n",
            "https://m.media-amazon.com/images/G/31/personalization/ybh/loading-4x-gray._CB485916689_.gif\n"
          ]
        }
      ]
    }
  ]
}