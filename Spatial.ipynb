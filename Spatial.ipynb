{
  "nbformat": 4,
  "nbformat_minor": 0,
  "metadata": {
    "colab": {
      "provenance": [],
      "toc_visible": true,
      "authorship_tag": "ABX9TyNlN82ykbS5kRDO/J8Q/kQa",
      "include_colab_link": true
    },
    "kernelspec": {
      "name": "python3",
      "display_name": "Python 3"
    },
    "language_info": {
      "name": "python"
    }
  },
  "cells": [
    {
      "cell_type": "markdown",
      "metadata": {
        "id": "view-in-github",
        "colab_type": "text"
      },
      "source": [
        "<a href=\"https://colab.research.google.com/github/Komal-Sahani-U/Data-Handling-and-visualization/blob/main/Spatial.ipynb\" target=\"_parent\"><img src=\"https://colab.research.google.com/assets/colab-badge.svg\" alt=\"Open In Colab\"/></a>"
      ]
    },
    {
      "cell_type": "code",
      "execution_count": 2,
      "metadata": {
        "colab": {
          "base_uri": "https://localhost:8080/"
        },
        "id": "8m3gNTNZRQmO",
        "outputId": "ab233932-1523-4f47-90ce-97a9b777a559"
      },
      "outputs": [
        {
          "output_type": "stream",
          "name": "stdout",
          "text": [
            "Requirement already satisfied: folium in /usr/local/lib/python3.10/dist-packages (0.14.0)\n",
            "Requirement already satisfied: branca>=0.6.0 in /usr/local/lib/python3.10/dist-packages (from folium) (0.7.2)\n",
            "Requirement already satisfied: jinja2>=2.9 in /usr/local/lib/python3.10/dist-packages (from folium) (3.1.3)\n",
            "Requirement already satisfied: numpy in /usr/local/lib/python3.10/dist-packages (from folium) (1.25.2)\n",
            "Requirement already satisfied: requests in /usr/local/lib/python3.10/dist-packages (from folium) (2.31.0)\n",
            "Requirement already satisfied: MarkupSafe>=2.0 in /usr/local/lib/python3.10/dist-packages (from jinja2>=2.9->folium) (2.1.5)\n",
            "Requirement already satisfied: charset-normalizer<4,>=2 in /usr/local/lib/python3.10/dist-packages (from requests->folium) (3.3.2)\n",
            "Requirement already satisfied: idna<4,>=2.5 in /usr/local/lib/python3.10/dist-packages (from requests->folium) (3.7)\n",
            "Requirement already satisfied: urllib3<3,>=1.21.1 in /usr/local/lib/python3.10/dist-packages (from requests->folium) (2.0.7)\n",
            "Requirement already satisfied: certifi>=2017.4.17 in /usr/local/lib/python3.10/dist-packages (from requests->folium) (2024.2.2)\n"
          ]
        }
      ],
      "source": [
        " !pip install folium\n"
      ]
    },
    {
      "cell_type": "code",
      "source": [
        "import folium\n",
        "from folium import IFrame\n",
        "bengaluru_coords = (12.9716, 77.5946)\n",
        "map_bengaluru = folium.Map(location=bengaluru_coords, zoom_start=12)\n",
        "locations = [\n",
        "    {\n",
        "        'name': 'Location 1',\n",
        "        'coords': (12.9750, 77.6206),\n",
        "        'description': 'The Vidhana Soudha in Bangalore, India - the seat of the state legislature of Karnataka',\n",
        "        'image': 'https://www.istockphoto.com/photo/vidhana-soudha-in-bangalore-india-the-seat-of-the-state-legislature-of-karnataka-gm1433555981-475435161?utm_campaign=srp_photos_top&utm_content=https%3A%2F%2Funsplash.com%2Fs%2Fphotos%2Fbengaluru&utm_medium=affiliate&utm_source=unsplash&utm_term=bengaluru%3A%3A%3A'\n",
        "    },\n",
        "    {\n",
        "        'name': 'Location 2',\n",
        "        'coords': (12.9345, 77.5365),\n",
        "        'description': 'The beautiful Maharajahs Palace in Mysore, Karnataka, India',\n",
        "        'image': 'https://www.istockphoto.com/photo/maharajahs-palace-in-mysore-gm614243374-106234375?utm_campaign=srp_photos_top&utm_content=https%3A%2F%2Funsplash.com%2Fs%2Fphotos%2Fbengaluru-famous-place&utm_medium=affiliate&utm_source=unsplash&utm_term=bengaluru+famous+place%3A%3A%3A'\n",
        "    }\n",
        "]\n",
        "\n",
        "for loc in locations:\n",
        "    html = f'<h3>{loc[\"name\"]}</h3><p>{loc[\"description\"]}</p><img src=\"{loc[\"image\"]}\" alt=\"Location Image\" style=\"width:200px;height:150px;\">'\n",
        "    iframe = folium.IFrame(html=html, width=300, height=200)\n",
        "    folium.Marker(\n",
        "        location=loc['coords'],\n",
        "        popup=folium.Popup(iframe, max_width=300),\n",
        "        icon=folium.Icon(color='red')\n",
        "    ).add_to(map_bengaluru)\n",
        "map_bengaluru.save('bengaluru_map_with_markers.html')\n",
        "map_bengaluru"
      ],
      "metadata": {
        "colab": {
          "base_uri": "https://localhost:8080/",
          "height": 582
        },
        "id": "fSeg4yLYSUEd",
        "outputId": "c3636fbc-bbd3-4448-83c5-a050db515365"
      },
      "execution_count": 6,
      "outputs": [
        {
          "output_type": "execute_result",
          "data": {
            "text/plain": [
              "<folium.folium.Map at 0x7b02b587e9b0>"
            ],
            "text/html": [
              "<div style=\"width:100%;\"><div style=\"position:relative;width:100%;height:0;padding-bottom:60%;\"><span style=\"color:#565656\">Make this Notebook Trusted to load map: File -> Trust Notebook</span><iframe srcdoc=\"&lt;!DOCTYPE html&gt;\n",
              "&lt;html&gt;\n",
              "&lt;head&gt;\n",
              "    \n",
              "    &lt;meta http-equiv=&quot;content-type&quot; content=&quot;text/html; charset=UTF-8&quot; /&gt;\n",
              "    \n",
              "        &lt;script&gt;\n",
              "            L_NO_TOUCH = false;\n",
              "            L_DISABLE_3D = false;\n",
              "        &lt;/script&gt;\n",
              "    \n",
              "    &lt;style&gt;html, body {width: 100%;height: 100%;margin: 0;padding: 0;}&lt;/style&gt;\n",
              "    &lt;style&gt;#map {position:absolute;top:0;bottom:0;right:0;left:0;}&lt;/style&gt;\n",
              "    &lt;script src=&quot;https://cdn.jsdelivr.net/npm/leaflet@1.9.3/dist/leaflet.js&quot;&gt;&lt;/script&gt;\n",
              "    &lt;script src=&quot;https://code.jquery.com/jquery-1.12.4.min.js&quot;&gt;&lt;/script&gt;\n",
              "    &lt;script src=&quot;https://cdn.jsdelivr.net/npm/bootstrap@5.2.2/dist/js/bootstrap.bundle.min.js&quot;&gt;&lt;/script&gt;\n",
              "    &lt;script src=&quot;https://cdnjs.cloudflare.com/ajax/libs/Leaflet.awesome-markers/2.0.2/leaflet.awesome-markers.js&quot;&gt;&lt;/script&gt;\n",
              "    &lt;link rel=&quot;stylesheet&quot; href=&quot;https://cdn.jsdelivr.net/npm/leaflet@1.9.3/dist/leaflet.css&quot;/&gt;\n",
              "    &lt;link rel=&quot;stylesheet&quot; href=&quot;https://cdn.jsdelivr.net/npm/bootstrap@5.2.2/dist/css/bootstrap.min.css&quot;/&gt;\n",
              "    &lt;link rel=&quot;stylesheet&quot; href=&quot;https://netdna.bootstrapcdn.com/bootstrap/3.0.0/css/bootstrap.min.css&quot;/&gt;\n",
              "    &lt;link rel=&quot;stylesheet&quot; href=&quot;https://cdn.jsdelivr.net/npm/@fortawesome/fontawesome-free@6.2.0/css/all.min.css&quot;/&gt;\n",
              "    &lt;link rel=&quot;stylesheet&quot; href=&quot;https://cdnjs.cloudflare.com/ajax/libs/Leaflet.awesome-markers/2.0.2/leaflet.awesome-markers.css&quot;/&gt;\n",
              "    &lt;link rel=&quot;stylesheet&quot; href=&quot;https://cdn.jsdelivr.net/gh/python-visualization/folium/folium/templates/leaflet.awesome.rotate.min.css&quot;/&gt;\n",
              "    \n",
              "            &lt;meta name=&quot;viewport&quot; content=&quot;width=device-width,\n",
              "                initial-scale=1.0, maximum-scale=1.0, user-scalable=no&quot; /&gt;\n",
              "            &lt;style&gt;\n",
              "                #map_f9e05843f13b8fa8dd46766c65e2b044 {\n",
              "                    position: relative;\n",
              "                    width: 100.0%;\n",
              "                    height: 100.0%;\n",
              "                    left: 0.0%;\n",
              "                    top: 0.0%;\n",
              "                }\n",
              "                .leaflet-container { font-size: 1rem; }\n",
              "            &lt;/style&gt;\n",
              "        \n",
              "&lt;/head&gt;\n",
              "&lt;body&gt;\n",
              "    \n",
              "    \n",
              "            &lt;div class=&quot;folium-map&quot; id=&quot;map_f9e05843f13b8fa8dd46766c65e2b044&quot; &gt;&lt;/div&gt;\n",
              "        \n",
              "&lt;/body&gt;\n",
              "&lt;script&gt;\n",
              "    \n",
              "    \n",
              "            var map_f9e05843f13b8fa8dd46766c65e2b044 = L.map(\n",
              "                &quot;map_f9e05843f13b8fa8dd46766c65e2b044&quot;,\n",
              "                {\n",
              "                    center: [12.9716, 77.5946],\n",
              "                    crs: L.CRS.EPSG3857,\n",
              "                    zoom: 12,\n",
              "                    zoomControl: true,\n",
              "                    preferCanvas: false,\n",
              "                }\n",
              "            );\n",
              "\n",
              "            \n",
              "\n",
              "        \n",
              "    \n",
              "            var tile_layer_12be03e65084cb179bd9bdcc65da527c = L.tileLayer(\n",
              "                &quot;https://{s}.tile.openstreetmap.org/{z}/{x}/{y}.png&quot;,\n",
              "                {&quot;attribution&quot;: &quot;Data by \\u0026copy; \\u003ca target=\\&quot;_blank\\&quot; href=\\&quot;http://openstreetmap.org\\&quot;\\u003eOpenStreetMap\\u003c/a\\u003e, under \\u003ca target=\\&quot;_blank\\&quot; href=\\&quot;http://www.openstreetmap.org/copyright\\&quot;\\u003eODbL\\u003c/a\\u003e.&quot;, &quot;detectRetina&quot;: false, &quot;maxNativeZoom&quot;: 18, &quot;maxZoom&quot;: 18, &quot;minZoom&quot;: 0, &quot;noWrap&quot;: false, &quot;opacity&quot;: 1, &quot;subdomains&quot;: &quot;abc&quot;, &quot;tms&quot;: false}\n",
              "            ).addTo(map_f9e05843f13b8fa8dd46766c65e2b044);\n",
              "        \n",
              "    \n",
              "            var marker_46245d0cf641019efff26fdbbf68ea86 = L.marker(\n",
              "                [12.975, 77.6206],\n",
              "                {}\n",
              "            ).addTo(map_f9e05843f13b8fa8dd46766c65e2b044);\n",
              "        \n",
              "    \n",
              "            var icon_ded8798455154095a80db778f2b2d887 = L.AwesomeMarkers.icon(\n",
              "                {&quot;extraClasses&quot;: &quot;fa-rotate-0&quot;, &quot;icon&quot;: &quot;info-sign&quot;, &quot;iconColor&quot;: &quot;white&quot;, &quot;markerColor&quot;: &quot;red&quot;, &quot;prefix&quot;: &quot;glyphicon&quot;}\n",
              "            );\n",
              "            marker_46245d0cf641019efff26fdbbf68ea86.setIcon(icon_ded8798455154095a80db778f2b2d887);\n",
              "        \n",
              "    \n",
              "        var popup_92daa39b4a81b804f0bcad6743f55ede = L.popup({&quot;maxWidth&quot;: 300});\n",
              "\n",
              "        \n",
              "            \n",
              "                var i_frame_5eb7edf3a8a53103576060a35484c015 = $(`&lt;iframe src=&quot;data:text/html;charset=utf-8;base64,CiAgICA8aDM+TG9jYXRpb24gMTwvaDM+PHA+VGhlIFZpZGhhbmEgU291ZGhhIGluIEJhbmdhbG9yZSwgSW5kaWEgLSB0aGUgc2VhdCBvZiB0aGUgc3RhdGUgbGVnaXNsYXR1cmUgb2YgS2FybmF0YWthPC9wPjxpbWcgc3JjPSJodHRwczovL3d3dy5pc3RvY2twaG90by5jb20vcGhvdG8vdmlkaGFuYS1zb3VkaGEtaW4tYmFuZ2Fsb3JlLWluZGlhLXRoZS1zZWF0LW9mLXRoZS1zdGF0ZS1sZWdpc2xhdHVyZS1vZi1rYXJuYXRha2EtZ20xNDMzNTU1OTgxLTQ3NTQzNTE2MT91dG1fY2FtcGFpZ249c3JwX3Bob3Rvc190b3AmdXRtX2NvbnRlbnQ9aHR0cHMlM0ElMkYlMkZ1bnNwbGFzaC5jb20lMkZzJTJGcGhvdG9zJTJGYmVuZ2FsdXJ1JnV0bV9tZWRpdW09YWZmaWxpYXRlJnV0bV9zb3VyY2U9dW5zcGxhc2gmdXRtX3Rlcm09YmVuZ2FsdXJ1JTNBJTNBJTNBIiBhbHQ9IkxvY2F0aW9uIEltYWdlIiBzdHlsZT0id2lkdGg6MjAwcHg7aGVpZ2h0OjE1MHB4OyI+&quot; width=&quot;300&quot; style=&quot;border:none !important;&quot; height=&quot;200&quot;&gt;&lt;/iframe&gt;`)[0];\n",
              "                popup_92daa39b4a81b804f0bcad6743f55ede.setContent(i_frame_5eb7edf3a8a53103576060a35484c015);\n",
              "            \n",
              "        \n",
              "\n",
              "        marker_46245d0cf641019efff26fdbbf68ea86.bindPopup(popup_92daa39b4a81b804f0bcad6743f55ede)\n",
              "        ;\n",
              "\n",
              "        \n",
              "    \n",
              "    \n",
              "            var marker_ace1e0ad225a5c02bcd32335c403a76f = L.marker(\n",
              "                [12.9345, 77.5365],\n",
              "                {}\n",
              "            ).addTo(map_f9e05843f13b8fa8dd46766c65e2b044);\n",
              "        \n",
              "    \n",
              "            var icon_eec68bedc18143c806faf3f63a56e508 = L.AwesomeMarkers.icon(\n",
              "                {&quot;extraClasses&quot;: &quot;fa-rotate-0&quot;, &quot;icon&quot;: &quot;info-sign&quot;, &quot;iconColor&quot;: &quot;white&quot;, &quot;markerColor&quot;: &quot;red&quot;, &quot;prefix&quot;: &quot;glyphicon&quot;}\n",
              "            );\n",
              "            marker_ace1e0ad225a5c02bcd32335c403a76f.setIcon(icon_eec68bedc18143c806faf3f63a56e508);\n",
              "        \n",
              "    \n",
              "        var popup_551a058e3d577c897c77adcd1204b9eb = L.popup({&quot;maxWidth&quot;: 300});\n",
              "\n",
              "        \n",
              "            \n",
              "                var i_frame_e0a5aa1f14e205bfa21bfc583ce03b76 = $(`&lt;iframe src=&quot;data:text/html;charset=utf-8;base64,CiAgICA8aDM+TG9jYXRpb24gMjwvaDM+PHA+VGhlIGJlYXV0aWZ1bCBNYWhhcmFqYWhzIFBhbGFjZSBpbiBNeXNvcmUsIEthcm5hdGFrYSwgSW5kaWE8L3A+PGltZyBzcmM9Imh0dHBzOi8vd3d3LmlzdG9ja3Bob3RvLmNvbS9waG90by9tYWhhcmFqYWhzLXBhbGFjZS1pbi1teXNvcmUtZ202MTQyNDMzNzQtMTA2MjM0Mzc1P3V0bV9jYW1wYWlnbj1zcnBfcGhvdG9zX3RvcCZ1dG1fY29udGVudD1odHRwcyUzQSUyRiUyRnVuc3BsYXNoLmNvbSUyRnMlMkZwaG90b3MlMkZiZW5nYWx1cnUtZmFtb3VzLXBsYWNlJnV0bV9tZWRpdW09YWZmaWxpYXRlJnV0bV9zb3VyY2U9dW5zcGxhc2gmdXRtX3Rlcm09YmVuZ2FsdXJ1K2ZhbW91cytwbGFjZSUzQSUzQSUzQSIgYWx0PSJMb2NhdGlvbiBJbWFnZSIgc3R5bGU9IndpZHRoOjIwMHB4O2hlaWdodDoxNTBweDsiPg==&quot; width=&quot;300&quot; style=&quot;border:none !important;&quot; height=&quot;200&quot;&gt;&lt;/iframe&gt;`)[0];\n",
              "                popup_551a058e3d577c897c77adcd1204b9eb.setContent(i_frame_e0a5aa1f14e205bfa21bfc583ce03b76);\n",
              "            \n",
              "        \n",
              "\n",
              "        marker_ace1e0ad225a5c02bcd32335c403a76f.bindPopup(popup_551a058e3d577c897c77adcd1204b9eb)\n",
              "        ;\n",
              "\n",
              "        \n",
              "    \n",
              "&lt;/script&gt;\n",
              "&lt;/html&gt;\" style=\"position:absolute;width:100%;height:100%;left:0;top:0;border:none !important;\" allowfullscreen webkitallowfullscreen mozallowfullscreen></iframe></div></div>"
            ]
          },
          "metadata": {},
          "execution_count": 6
        }
      ]
    }
  ]
}